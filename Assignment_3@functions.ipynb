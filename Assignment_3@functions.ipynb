{
 "cells": [
  {
   "cell_type": "markdown",
   "id": "e68cca5b",
   "metadata": {},
   "source": [
    "# Write a Python function to sum all the numbers in a list.\n",
    "\n",
    "\n",
    "\n",
    "Sample List : (8, 2, 3, 0, 7)\n",
    "\n",
    "Expected Output : 20"
   ]
  },
  {
   "cell_type": "code",
   "execution_count": 1,
   "id": "60090c07",
   "metadata": {},
   "outputs": [
    {
     "name": "stdout",
     "output_type": "stream",
     "text": [
      "25\n"
     ]
    }
   ],
   "source": [
    "def sum(x):\n",
    "    total = 0\n",
    "    for i in x:\n",
    "        total=total+ i\n",
    "    return total\n",
    "print(sum((5,10,8,2)))"
   ]
  },
  {
   "cell_type": "markdown",
   "id": "d27fb3a1",
   "metadata": {},
   "source": [
    "# Write a Python function that accepts a string and calculate the number of upper case letters and lower case letters.\n",
    "\n",
    "\n",
    "\n",
    "﻿Sample String : 'The quick Brow Fox'\n",
    "\n",
    "Expected Output :\n",
    "\n",
    "No. of Upper case characters : 3\n",
    "\n",
    "No. of Lower case Characters : 12"
   ]
  },
  {
   "cell_type": "code",
   "execution_count": 81,
   "id": "e456c682",
   "metadata": {},
   "outputs": [
    {
     "name": "stdout",
     "output_type": "stream",
     "text": [
      "upper case count: 4\n",
      "lower case count 3\n",
      "\n"
     ]
    }
   ],
   "source": [
    "def string(x):\n",
    "    d={\"count_upper\":0,\"count_lower\":0}\n",
    "    for i in x:\n",
    "        if i.isupper():\n",
    "            d[\"count_upper\"]+=1\n",
    "        elif i.islower():\n",
    "            d[\"count_lower\"]+=1\n",
    "        else:\n",
    "            pass\n",
    "    print(\"upper case count:\", d[\"count_upper\"])\n",
    "    print(\"lower case count\", d[\"count_lower\"]) \n",
    "    return \"\"\n",
    "print(string(\"COuntRY\"))\n",
    "\n",
    "\n",
    "    "
   ]
  },
  {
   "cell_type": "markdown",
   "id": "44b3ed23",
   "metadata": {},
   "source": [
    "# Write a Python program to reverse a string.\n",
    "\n",
    "\n",
    "\n",
    "﻿Sample String : \"1234abcd\"\n",
    "\n",
    "Expected Output : \"dcba4321\"\n",
    "\n"
   ]
  },
  {
   "cell_type": "code",
   "execution_count": 77,
   "id": "3b4c60eb",
   "metadata": {},
   "outputs": [
    {
     "name": "stdout",
     "output_type": "stream",
     "text": [
      "dcba4321\n"
     ]
    }
   ],
   "source": [
    "def reverse_string(x):\n",
    "    string=\"\"\n",
    "    y=len(x)\n",
    "    while y>0:\n",
    "        string += x[y-1]\n",
    "        y = y-1\n",
    "    return string\n",
    "print(reverse_string(\"1234abcd\"))\n",
    "    "
   ]
  },
  {
   "cell_type": "code",
   "execution_count": null,
   "id": "c8a422fe",
   "metadata": {},
   "outputs": [],
   "source": []
  }
 ],
 "metadata": {
  "kernelspec": {
   "display_name": "Python 3 (ipykernel)",
   "language": "python",
   "name": "python3"
  },
  "language_info": {
   "codemirror_mode": {
    "name": "ipython",
    "version": 3
   },
   "file_extension": ".py",
   "mimetype": "text/x-python",
   "name": "python",
   "nbconvert_exporter": "python",
   "pygments_lexer": "ipython3",
   "version": "3.9.13"
  }
 },
 "nbformat": 4,
 "nbformat_minor": 5
}
